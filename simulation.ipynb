{
 "cells": [
  {
   "cell_type": "code",
   "execution_count": null,
   "metadata": {},
   "outputs": [],
   "source": [
    "import numpy as np\n",
    "import matplotlib.pyplot as plt\n",
    "from scipy.integrate import odeint, ode\n",
    " \n",
    "\"\"\"\n",
    "https://www.sciencedirect.com/science/article/pii/S0022519315004142\n",
    "\"\"\"\n",
    " \n",
    "def dFdt_original(F,t):\n",
    "    \"\"\"\n",
    "    System of differential equations\n",
    "    \"\"\"\n",
    "    dF = [0,0,0,0,0] # P, S, N, G, C\n",
    "    P = F[0]\n",
    "    S = F[1]\n",
    "    N = F[2]\n",
    "    G = F[3]\n",
    "    C = F[4]\n",
    " \n",
    "    dF[0] = -k_s*S*P - k_G*P - k_450*P + k_N*N\n",
    "    dF[1] = -k_s*S*P + b_s - d_s*S\n",
    "    dF[2] = k_450*P - k_N*N - k_GSH*N*G - k_PSH*N\n",
    "    dF[3] = -k_GSH*N*G + b_G - d_G*G\n",
    "    dF[4] = k_PSH*N\n",
    "   \n",
    "    return dF\n",
    " \n",
    "d_G = 2\n",
    "b_G = 1.374e-14\n",
    "k_GSH = 1.6e18\n",
    "k_G = 2.99\n",
    "k_s = 2.26e14\n",
    "b_s = 2.65e-14\n",
    "d_s = 2\n",
    "k_450 = 0.315\n",
    "k_N = 0.0315\n",
    "k_PSH = 110\n",
    " \n",
    "P_0 = 1.32e-13\n",
    " \n",
    "# Times\n",
    "t_min = 0; t_max = 5; dt = 0.001\n",
    "times = np.arange(t_min, t_max+dt, dt) #generate time-grid list\n",
    " \n",
    "### Simulation ###\n",
    "F0 = [P_0, b_s/d_s, 0, b_G/d_G, 0] # initial conditions ### these match what the paper had\n",
    "print(F0)\n",
    "F = odeint(dFdt_original, F0, times) #run simulation\n",
    " \n",
    "plt.plot(times, F[:, 1])\n",
    "plt.show()\n",
    "\n",
    "print(F.shape)"
   ]
  }
 ],
 "metadata": {
  "kernelspec": {
   "display_name": "Python 3",
   "language": "python",
   "name": "python3"
  },
  "language_info": {
   "codemirror_mode": {
    "name": "ipython",
    "version": 3
   },
   "file_extension": ".py",
   "mimetype": "text/x-python",
   "name": "python",
   "nbconvert_exporter": "python",
   "pygments_lexer": "ipython3",
   "version": "3.11.8"
  }
 },
 "nbformat": 4,
 "nbformat_minor": 2
}
